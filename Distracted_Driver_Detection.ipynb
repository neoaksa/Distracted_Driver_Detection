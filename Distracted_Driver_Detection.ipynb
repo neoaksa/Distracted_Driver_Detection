{
  "nbformat": 4,
  "nbformat_minor": 0,
  "metadata": {
    "colab": {
      "name": "Distracted Driver Detection.ipynb",
      "version": "0.3.2",
      "provenance": [],
      "include_colab_link": true
    },
    "kernelspec": {
      "name": "python3",
      "display_name": "Python 3"
    },
    "accelerator": "GPU"
  },
  "cells": [
    {
      "cell_type": "markdown",
      "metadata": {
        "id": "view-in-github",
        "colab_type": "text"
      },
      "source": [
        "[View in Colaboratory](https://colab.research.google.com/github/neoaksa/Distracted_Driver_Detection/blob/master/Distracted_Driver_Detection.ipynb)"
      ]
    },
    {
      "metadata": {
        "id": "yRAT-5QGzzCX",
        "colab_type": "text"
      },
      "cell_type": "markdown",
      "source": [
        "Distracted Driver images are from kaggle competiton which you can find detail [here](https://www.kaggle.com/c/state-farm-distracted-driver-detection#description).\n",
        "\n",
        "Basicly, the data alrealy labeled into 10 different statues, from C0 to C9. \n",
        "- c0: normal driving\n",
        "- c1: texting - right\n",
        "- c2: talking on the phone - right\n",
        "- c3: texting - left\n",
        "- c4: talking on the phone - left\n",
        "- c5: operating the radio\n",
        "- c6: drinking\n",
        "- c7: reaching behind\n",
        "- c8: hair and makeup\n",
        "- c9: talking to passenger \n",
        "\n",
        "we know it is a supervised learning problem and there are bunch of solutions for this problem in kaggle. But I still want to implent it as I need to build a standard pipline for this kind of issue and try variety model by keras to achieve the best result basis of  multi-class logarithmic loss.   "
      ]
    },
    {
      "metadata": {
        "id": "-_MuC5hE2_r3",
        "colab_type": "text"
      },
      "cell_type": "markdown",
      "source": [
        "**Step 1**: the first setp is simple, download the raw data from google drive and unzip the image folder. This might take a while since the image zip file are almost 4Gb. Compressed file :https://drive.google.com/file/d/1OA94GnqYDD9O4NPxepRot4-whIYYC62S/view?usp=sharing\n",
        " Plus: you will love Google componets, the uncompress process is super faster than your own pc."
      ]
    },
    {
      "metadata": {
        "id": "OAYAgTipuNON",
        "colab_type": "code",
        "colab": {
          "base_uri": "https://localhost:8080/",
          "height": 170
        },
        "outputId": "914e909b-04ca-4e3d-fd7c-60a04ac56978"
      },
      "cell_type": "code",
      "source": [
        "! pip install pydrive\n",
        "# these classes allow you to request the Google drive API\n",
        "from pydrive.auth import GoogleAuth\n",
        "from pydrive.drive import GoogleDrive \n",
        "from google.colab import auth \n",
        "from oauth2client.client import GoogleCredentials\n",
        "from googleapiclient.discovery import build\n",
        "from google.colab import auth\n",
        "import zipfile\n",
        "\n",
        "# authenticate google drive\n",
        "auth.authenticate_user()\n",
        "drive_service = build('drive', 'v3')\n",
        "# 1. Authenticate and create the PyDrive client.\n",
        "gauth = GoogleAuth()\n",
        "gauth.credentials = GoogleCredentials.get_application_default()\n",
        "drive = GoogleDrive(gauth)\n",
        "\n",
        "def downloadFile(inputfilename,outputfilename):\n",
        "    downloaded = drive.CreateFile({'id': inputfilename})\n",
        "    # assume the file is called file.csv and it's located at the root of your drive\n",
        "    downloaded.GetContentFile(outputfilename)\n",
        "    \n",
        "# traning file download\n",
        "FileObj = downloadFile(\"1OA94GnqYDD9O4NPxepRot4-whIYYC62S\",\"all.zip\")\n",
        "\n",
        "# unzip files\n",
        "zip_ref = zipfile.ZipFile('all.zip', 'r')\n",
        "zip_ref.extractall('./')\n",
        "zip_ref.close()\n",
        "# unzip images\n",
        "zip_ref = zipfile.ZipFile('imgs.zip', 'r')\n",
        "zip_ref.extractall('./imgs/')\n",
        "zip_ref.close()\n",
        "\n",
        "# check the dictory\n",
        "import os\n",
        "for x in os.listdir('./'):\n",
        "    print(x)"
      ],
      "execution_count": 13,
      "outputs": [
        {
          "output_type": "stream",
          "text": [
            "datalab\n",
            "sample_data\n",
            ".config\n",
            "all.zip\n",
            "sample_submission.csv\n",
            "imgs\n",
            "adc.json\n",
            "imgs.zip\n",
            "driver_imgs_list.csv\n"
          ],
          "name": "stdout"
        }
      ]
    },
    {
      "metadata": {
        "id": "o3bO69Nf9ppX",
        "colab_type": "text"
      },
      "cell_type": "markdown",
      "source": [
        "So, we got the raw data we need. \n",
        "- *driver_imgs_list.csv* is the label information. \n",
        "- *imgs* is the folder for storing images by classifications\n",
        "- *sample_submission.csv* is the submission format, we can leave it alone."
      ]
    },
    {
      "metadata": {
        "id": "STyDtd2K--7i",
        "colab_type": "text"
      },
      "cell_type": "markdown",
      "source": [
        "**Step 2**: Before we do any data analysis, we need to overview the whole dataset, such as distribution of samples or take a peek of images by each classification."
      ]
    },
    {
      "metadata": {
        "id": "yrz29hSW-4uh",
        "colab_type": "code",
        "colab": {
          "base_uri": "https://localhost:8080/",
          "height": 552
        },
        "outputId": "be912389-ff3a-434b-9ca5-2466baf93c61"
      },
      "cell_type": "code",
      "source": [
        "import pandas as pd\n",
        "\n",
        "# load data from  driver_imgs_list.csv\n",
        "df_all = pd.read_csv('driver_imgs_list.csv')\n",
        "print(df_all['classname'].value_counts())\n",
        "df_all['classname'].value_counts().plot(kind='bar')"
      ],
      "execution_count": 40,
      "outputs": [
        {
          "output_type": "stream",
          "text": [
            "c0    2489\n",
            "c3    2346\n",
            "c4    2326\n",
            "c6    2325\n",
            "c2    2317\n",
            "c5    2312\n",
            "c1    2267\n",
            "c9    2129\n",
            "c7    2002\n",
            "c8    1911\n",
            "Name: classname, dtype: int64\n"
          ],
          "name": "stdout"
        },
        {
          "output_type": "execute_result",
          "data": {
            "text/plain": [
              "<matplotlib.axes._subplots.AxesSubplot at 0x7fd1b6126860>"
            ]
          },
          "metadata": {
            "tags": []
          },
          "execution_count": 40
        },
        {
          "output_type": "display_data",
          "data": {
            "image/png": "[encoded data removed]",
            "text/plain": [
              "<matplotlib.figure.Figure at 0x7fd1b4077e48>"
            ]
          },
          "metadata": {
            "tags": []
          }
        }
      ]
    },
    {
      "metadata": {
        "id": "_Iji0V0OF7RP",
        "colab_type": "text"
      },
      "cell_type": "markdown",
      "source": [
        "The number of each category shows they are balance. Otherwise, wehave to rebalance samples by ADASYN or SMOTE."
      ]
    },
    {
      "metadata": {
        "id": "59jptpJVC4cl",
        "colab_type": "code",
        "colab": {
          "base_uri": "https://localhost:8080/",
          "height": 51
        },
        "outputId": "89928d6a-e327-451f-d5fa-e222a60ffa9f"
      },
      "cell_type": "code",
      "source": [
        "# let's see how many samples in traing and testing folders\n",
        "print('train sample #:'+ str(sum([len(files) for r, d, files in os.walk('./imgs/train')])))\n",
        "print('test sample #:' + str(sum([len(files) for r, d, files in os.walk('./imgs/test')])))"
      ],
      "execution_count": 61,
      "outputs": [
        {
          "output_type": "stream",
          "text": [
            "train sample #:22424\n",
            "test sample #:79726\n"
          ],
          "name": "stdout"
        }
      ]
    },
    {
      "metadata": {
        "id": "bqivKktJKGfC",
        "colab_type": "text"
      },
      "cell_type": "markdown",
      "source": [
        "**Step 3**: we will use a** Convolution Neural Network** for the task. However, we don't have to build a new CNN from begining. Alternatively, we will use pre-trained ImageNet models for this task and do some transfer learning through keras."
      ]
    },
    {
      "metadata": {
        "id": "vipGVPYtWNDl",
        "colab_type": "code",
        "colab": {}
      },
      "cell_type": "code",
      "source": [
        "from keras import applications\n",
        "from keras.preprocessing.image import ImageDataGenerator\n",
        "from keras import optimizers\n",
        "from keras.models import Sequential, Model \n",
        "from keras.layers import Dropout, Flatten, Dense, GlobalAveragePooling2D\n",
        "from keras import backend as k \n",
        "from keras.callbacks import ModelCheckpoint, LearningRateScheduler, TensorBoard, EarlyStopping\n",
        "\n",
        "img_width, img_height = 256, 256\n",
        "train_data_dir = \"data/train\"\n",
        "validation_data_dir = \"data/val\"\n",
        "nb_train_samples = 4125\n",
        "nb_validation_samples = 466 \n",
        "batch_size = 16\n",
        "epochs = 50\n",
        "\n",
        "# VGG19 model\n",
        "model = applications.VGG19(weights = \"imagenet\", include_top=False, input_shape = (img_width, img_height, 3))\n",
        "# Freeze the first 5 layers(Cov layers), and only train FC layer\n",
        "for layer in model.layers[:5]:\n",
        "    layer.trainable = False\n",
        "\n",
        "#Adding custom Layers \n",
        "x = model.output\n",
        "x = Flatten()(x)\n",
        "x = Dense(1024, activation=\"relu\")(x)\n",
        "x = Dropout(0.5)(x)\n",
        "x = Dense(1024, activation=\"relu\")(x)\n",
        "predictions = Dense(16, activation=\"softmax\")(x)\n",
        "\n",
        "# creating the final model \n",
        "model_final = Model(input = model.input, output = predictions)\n",
        "\n",
        "# compile the model \n",
        "model_final.compile(loss = \"categorical_crossentropy\", optimizer = optimizers.SGD(lr=0.0001, momentum=0.9), metrics=[\"accuracy\"])\n",
        "\n",
        "# Initiate the train and test generators with data Augumentation \n",
        "train_datagen = ImageDataGenerator(\n",
        "rescale = 1./255,\n",
        "horizontal_flip = True,\n",
        "fill_mode = \"nearest\",\n",
        "zoom_range = 0.3,\n",
        "width_shift_range = 0.3,\n",
        "height_shift_range=0.3,\n",
        "rotation_range=30)\n",
        "\n",
        "test_datagen = ImageDataGenerator(\n",
        "rescale = 1./255,\n",
        "horizontal_flip = True,\n",
        "fill_mode = \"nearest\",\n",
        "zoom_range = 0.3,\n",
        "width_shift_range = 0.3,\n",
        "height_shift_range=0.3,\n",
        "rotation_range=30)\n",
        "\n",
        "train_generator = train_datagen.flow_from_directory(\n",
        "train_data_dir,\n",
        "target_size = (img_height, img_width),\n",
        "batch_size = batch_size, \n",
        "class_mode = \"categorical\")\n",
        "\n",
        "validation_generator = test_datagen.flow_from_directory(\n",
        "validation_data_dir,\n",
        "target_size = (img_height, img_width),\n",
        "class_mode = \"categorical\")\n",
        "\n",
        "# Save the model according to the conditions  \n",
        "checkpoint = ModelCheckpoint(\"vgg16_1.h5\", monitor='val_acc', verbose=1, save_best_only=True, save_weights_only=False, mode='auto', period=1)\n",
        "early = EarlyStopping(monitor='val_acc', min_delta=0, patience=10, verbose=1, mode='auto')\n",
        "\n",
        "\n",
        "# Train the model \n",
        "model_final.fit_generator(\n",
        "train_generator,\n",
        "samples_per_epoch = nb_train_samples,\n",
        "epochs = epochs,\n",
        "validation_data = validation_generator,\n",
        "nb_val_samples = nb_validation_samples,\n",
        "callbacks = [checkpoint, early])"
      ],
      "execution_count": 0,
      "outputs": []
    }
  ]
}